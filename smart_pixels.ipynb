{
 "cells": [
  {
   "cell_type": "code",
   "execution_count": 1,
   "id": "56a3bd06-f806-4ebc-9cd5-3cd9c6c8c7b9",
   "metadata": {},
   "outputs": [],
   "source": [
    "import h5py\n",
    "import glob\n",
    "import os\n",
    "import sys\n",
    "import sympy\n",
    "import numpy as np\n",
    "import pandas as pd\n",
    "import tensorflow as tf\n",
    "import matplotlib.pyplot as plt\n",
    "from sklearn.model_selection import train_test_split\n",
    "from sklearn.metrics import roc_curve, auc, accuracy_score\n",
    "from sklearn.preprocessing import StandardScaler\n",
    "import tensorflow.keras.backend as K\n",
    "from sklearn.preprocessing import StandardScaler, LabelEncoder\n",
    "from tensorflow.keras.utils import to_categorical\n",
    "from sklearn.metrics import roc_curve, auc, accuracy_score, r2_score\n",
    "from tensorflow.keras.regularizers import Regularizer\n",
    "from tensorflow.keras.initializers import Zeros, RandomNormal\n",
    "from tensorflow.keras.layers import *\n",
    "from tensorflow import keras\n",
    "from tensorflow.keras import layers, models, Model\n",
    "from sklearn.metrics import roc_curve, auc\n",
    "import tensorflow.keras.backend as K\n",
    "import qkeras\n",
    "from qkeras import *\n",
    "\n",
    "np.random.seed(42)\n",
    "tf.random.set_seed(42)"
   ]
  },
  {
   "cell_type": "code",
   "execution_count": null,
   "id": "e1d5984d-9609-4bac-b3e4-db593dfcf583",
   "metadata": {},
   "outputs": [],
   "source": [
    "X_train = np.load('X_train.npy', mmap_mode='r')\n",
    "X_val = np.load('X_val.npy', mmap_mode='r')\n",
    "X_test = np.load('X_test.npy', mmap_mode='r')\n",
    "Y_train = np.load('Y_train.npy', mmap_mode='r')\n",
    "Y_val = np.load('Y_val.npy', mmap_mode='r')\n",
    "Y_test = np.load('Y_test.npy', mmap_mode='r')\n",
    "pt_truth_test = np.load('pt_truth_test.npy', mmap_mode='r')\n",
    "\n",
    "print('X_train shape: ' + str(X_train.shape))\n",
    "print('X_val   shape: ' + str(X_val.shape))\n",
    "print('X_test  shape: ' + str(X_test.shape))\n",
    "print('Y_train shape: ' + str(Y_train.shape))\n",
    "print('Y_val   shape: ' + str(Y_val.shape))\n",
    "print('Y_test  shape: ' + str(Y_test.shape))\n",
    "print('pt_truth_test  shape: ' + str(pt_truth_test.shape))"
   ]
  },
  {
   "cell_type": "code",
   "execution_count": 3,
   "id": "fad2e4f9",
   "metadata": {},
   "outputs": [],
   "source": [
    "X_train = X_train[:,:2]\n",
    "X_val = X_val[:,:2]\n",
    "X_test = X_test[:,:2]"
   ]
  },
  {
   "cell_type": "code",
   "execution_count": 4,
   "id": "be35e80b",
   "metadata": {},
   "outputs": [],
   "source": [
    "scaler = StandardScaler()\n",
    "X_train = scaler.fit_transform(X_train)\n",
    "X_val = scaler.transform(X_val)\n",
    "X_test = scaler.transform(X_test)"
   ]
  },
  {
   "cell_type": "markdown",
   "id": "9a3dcd33-bf93-42f2-91fd-8d56797fb55c",
   "metadata": {},
   "source": [
    "## nn model"
   ]
  },
  {
   "cell_type": "code",
   "execution_count": null,
   "id": "bfa29564-b382-4443-9d44-b530c0c604c0",
   "metadata": {},
   "outputs": [],
   "source": [
    "quantizer = quantized_bits(16, 6, alpha=1)\n",
    "quantized_relu = 'quantized_relu(16, 6)'\n",
    "\n",
    "x_input = keras.Input(shape=(2,), name='input')\n",
    "\n",
    "x = QDense(128, use_bias=True, name='dense1', kernel_quantizer=quantizer, bias_quantizer=quantizer)(x_input)\n",
    "x = QActivation(quantized_relu, name='relu1')(x)\n",
    "    \n",
    "x = QDense(3, use_bias=True, name='dense2', kernel_quantizer=quantizer, bias_quantizer=quantizer)(x)\n",
    "x = layers.Softmax(name='softmax')(x)\n",
    "#x = layers.Activation('sigmoid')(x)\n",
    "\n",
    "model = keras.Model(x_input, x, name='model')\n",
    "\n",
    "model.compile(optimizer=tf.keras.optimizers.legacy.Adam(learning_rate=0.0005),\n",
    "              loss='categorical_crossentropy', metrics = ['accuracy'])\n",
    "#model.compile(optimizer=tf.keras.optimizers.legacy.Adam(learning_rate=0.001),\n",
    "#              loss='binary_crossentropy', metrics = ['accuracy'])\n",
    "model.summary()"
   ]
  },
  {
   "cell_type": "code",
   "execution_count": null,
   "id": "56450055-5f05-407b-b024-a3ee3bbd560f",
   "metadata": {
    "scrolled": true
   },
   "outputs": [],
   "source": [
    "history = model.fit(X_train, Y_train,\n",
    "                    validation_data = (X_val, Y_val),\n",
    "                    epochs=50, batch_size=256)"
   ]
  },
  {
   "cell_type": "code",
   "execution_count": null,
   "id": "55bec536-8ac6-4df9-a34d-d69a8178647d",
   "metadata": {},
   "outputs": [],
   "source": [
    "plt.figure(figsize = (15,10))\n",
    "axes = plt.subplot(2, 2, 1)\n",
    "axes.plot(history.history['loss'], label = 'train loss')\n",
    "axes.plot(history.history['val_loss'], label = 'val loss')\n",
    "axes.legend(loc = \"upper right\")\n",
    "axes.set_xlabel('Epoch')\n",
    "axes.set_ylabel('Loss')"
   ]
  },
  {
   "cell_type": "code",
   "execution_count": null,
   "id": "770756f9-011f-40ab-a5cf-092bfec2c9ea",
   "metadata": {},
   "outputs": [],
   "source": [
    "Y_nn_pred = model.predict(X_test)\n",
    "print(\"Accuracy: {}\".format(accuracy_score(np.argmax(Y_test, axis=1), np.argmax(Y_nn_pred, axis=1))))"
   ]
  },
  {
   "cell_type": "code",
   "execution_count": null,
   "id": "8a852df2-4b05-4d40-addd-2092ab3eac62",
   "metadata": {},
   "outputs": [],
   "source": [
    "def plot_roc(y_test, y_pred, labels):\n",
    "    for x, label in enumerate(labels):        \n",
    "        fpr, tpr, _ = roc_curve(y_test[:, x], y_pred[:, x])\n",
    "        plt.plot(fpr, tpr, label='{0}, {1:.1f}'.format(label, auc(fpr, tpr)*100.), linestyle='-')\n",
    "    #plt.semilogy()\n",
    "    #plt.semilogx()\n",
    "    plt.ylabel(\"Signal Efficiency\")\n",
    "    plt.xlabel(\"Background Efficiency\")\n",
    "    #plt.ylim(0.00001, 1)\n",
    "    #plt.xlim(0.00001, 1)\n",
    "    plt.grid(True)\n",
    "    plt.legend(loc='best', fontsize=10)  \n",
    "    \n",
    "plt.figure(figsize=(4, 4))\n",
    "plot_roc(Y_test, Y_nn_pred, ['Low pT (pos)','Low pT (neg)','High pT'])\n",
    "#plot_roc(Y_test, Y_nn_pred, [' '])"
   ]
  },
  {
   "cell_type": "code",
   "execution_count": null,
   "id": "44d3c1bd-0409-406d-90ad-1205e0526eed",
   "metadata": {},
   "outputs": [],
   "source": [
    "custom_bins = np.arange(-4.5, 4.5, 0.04)\n",
    "bin_centers = 0.5 * (custom_bins[:-1] + custom_bins[1:])\n",
    "\n",
    "indices_001_nn = np.argmax(Y_nn_pred, axis=1) == 2\n",
    "\n",
    "total_counts_nn, _ = np.histogram(pt_truth_test, bins=custom_bins)\n",
    "class_001_counts_nn, _ = np.histogram(pt_truth_test[indices_001_nn], bins=custom_bins)\n",
    "\n",
    "proportions_nn = class_001_counts_nn / total_counts_nn\n",
    "proportions_nn = np.nan_to_num(proportions_nn)\n",
    "\n",
    "plt.scatter(bin_centers, proportions_nn, marker='.', label='nn', alpha=0.5, color='blue')\n",
    "plt.axvline(x=0.2, color='grey', linestyle='--', alpha=0.5)\n",
    "plt.axvline(x=-0.2, color='grey', linestyle='--', alpha=0.5)\n",
    "\n",
    "plt.legend(fontsize=10)\n",
    "plt.xlabel('True pT [GeV]')\n",
    "plt.ylabel('Fraction')\n",
    "plt.title('Fraction of clusters selected as having |pT| > 0.2 GeV')\n",
    "plt.yticks(np.arange(0, 1.1, 0.1))\n",
    "#plt.yscale('log')\n",
    "plt.ylim(0, 1)\n",
    "plt.legend()\n",
    "plt.show()"
   ]
  },
  {
   "cell_type": "markdown",
   "id": "39c8892e-0ef5-480a-87df-5c357250ba15",
   "metadata": {},
   "source": [
    "## symbolnet model"
   ]
  },
  {
   "cell_type": "code",
   "execution_count": null,
   "id": "c8acb38b-7d78-448d-b5ce-c8ca999c6446",
   "metadata": {},
   "outputs": [],
   "source": [
    "from symbolnet import *\n",
    "\n",
    "input_dim  = X_train.shape[1]\n",
    "num_hidden = 1\n",
    "output_dim = Y_train.shape[1]\n",
    "model_dim = [input_dim, num_hidden, output_dim]\n",
    "\n",
    "# operator choices per hidden symbolic layer\n",
    "operators = [\n",
    "    [['sin','exp','tanh'], ['*']], # 1st symbolic layer [[unary], [binary]]\n",
    "    #[['sin','exp','tanh'], ['*']], # 2nd ...\n",
    "            ]\n",
    "\n",
    "# number of unary and binary operators per hidden symbolic layer\n",
    "num_operators = [\n",
    "    [20, 20], # 1st symbolic layer [num_unary, num_binary]\n",
    "    #[20, 4], # 2nd ...\n",
    "]\n",
    "\n",
    "model = create_model(model_dim=model_dim,\n",
    "                     operators=operators,\n",
    "                     num_operators=num_operators)\n",
    "model[0].summary()"
   ]
  },
  {
   "cell_type": "code",
   "execution_count": null,
   "id": "f202acc3-8f19-4c5f-a389-33763a2eb2e7",
   "metadata": {},
   "outputs": [],
   "source": [
    "nsr = neuralSR(model,\n",
    "               # set target sparsity level per pruning type\n",
    "               alpha_sparsity_input=0.1,\n",
    "               alpha_sparsity_model=0.5,\n",
    "               alpha_sparsity_unary=0.2,\n",
    "               alpha_sparsity_binary=0.2)\n",
    "nsr.compile(optimizer=keras.optimizers.Adam(learning_rate=0.0005))"
   ]
  },
  {
   "cell_type": "code",
   "execution_count": null,
   "id": "7601f5ec-4b9d-4c21-89cd-3293d50ffdd0",
   "metadata": {
    "scrolled": true
   },
   "outputs": [],
   "source": [
    "h = nsr.fit(X_train, Y_train, epochs=16, batch_size=256)\n",
    "history = dict()\n",
    "for key in h.history.keys():\n",
    "    values = []\n",
    "    values += h.history[key]\n",
    "    history[key] = values\n",
    "\n",
    "size_axis_title=10\n",
    "size_axis_label=8\n",
    "size_legend=7\n",
    "plt.figure(figsize = (7,7))\n",
    "axes = plt.subplot(2,2,1)\n",
    "axes.set_ylim([-0.05,1.1])\n",
    "plt.xticks(fontsize = size_axis_label) \n",
    "plt.yticks(fontsize = size_axis_label) \n",
    "axes.plot(history['accuracy'], label='Accuracy', linestyle='solid', c='r')\n",
    "axes.plot(history['sparsity_model'], label='Sparsity (weight)', linestyle='solid', c='g')\n",
    "axes.plot(history['sparsity_input'], label='Sparsity (input)', linestyle='solid', c='b')\n",
    "axes.plot(history['sparsity_unary'], label='Sparsity (unary)', linestyle='solid', c='orange')\n",
    "axes.plot(history['sparsity_binary'], label='Sparsity (binary)', linestyle='solid', c='brown')\n",
    "axes.set_xlabel('Epoch', size=size_axis_title, loc='right')\n",
    "axes.set_ylabel('Metric', size=size_axis_title, loc='top')\n",
    "axes.legend(loc = 'best', frameon = False, fontsize = size_legend)\n",
    "plt.show()"
   ]
  },
  {
   "cell_type": "code",
   "execution_count": null,
   "id": "5cc4fc3c-253b-4693-bab6-3e1709831147",
   "metadata": {},
   "outputs": [],
   "source": [
    "Y_sr_pred = nsr.model.predict(X_test)\n",
    "print(\"Accuracy = {}\".format(accuracy_score(np.argmax(Y_test, axis=1), np.argmax(Y_sr_pred, axis=1))))"
   ]
  },
  {
   "cell_type": "code",
   "execution_count": null,
   "id": "24715d3f-faa5-4b07-8312-95582b5e8aeb",
   "metadata": {},
   "outputs": [],
   "source": [
    "def plot_roc(y_test, y_pred, labels):\n",
    "    for x, label in enumerate(labels):        \n",
    "        fpr, tpr, _ = roc_curve(y_test[:, x], y_pred[:, x])\n",
    "        plt.plot(fpr, tpr, label='{0}, {1:.1f}'.format(label, auc(fpr, tpr)*100.), linestyle='-')\n",
    "    #plt.semilogy()\n",
    "    #plt.semilogx()\n",
    "    plt.ylabel(\"Signal Efficiency\")\n",
    "    plt.xlabel(\"Background Efficiency\")\n",
    "    #plt.ylim(0.00001, 1)\n",
    "    #plt.xlim(0.00001, 1)\n",
    "    plt.grid(True)\n",
    "    plt.legend(loc='best', fontsize=10)  \n",
    "    \n",
    "plt.figure(figsize=(4, 4))\n",
    "plot_roc(Y_test, Y_sr_pred, ['Low pT (pos)','Low pT (neg)','High pT'])\n",
    "#plot_roc(Y_test, Y_sr_pred, [' '])"
   ]
  },
  {
   "cell_type": "code",
   "execution_count": null,
   "id": "382de1de-783e-47c3-8e4e-ed39556a8759",
   "metadata": {},
   "outputs": [],
   "source": [
    "custom_bins = np.arange(-4.5, 4.5, 0.04)\n",
    "bin_centers = 0.5 * (custom_bins[:-1] + custom_bins[1:])\n",
    "\n",
    "indices_001_sr = np.argmax(Y_sr_pred, axis=1) == 2\n",
    "\n",
    "total_counts_sr, _ = np.histogram(pt_truth_test, bins=custom_bins)\n",
    "class_001_counts_sr, _ = np.histogram(pt_truth_test[indices_001_sr], bins=custom_bins)\n",
    "\n",
    "proportions_sr = class_001_counts_sr / total_counts_sr\n",
    "proportions_sr = np.nan_to_num(proportions_sr)\n",
    "\n",
    "plt.scatter(bin_centers, proportions_nn, marker='.', label='nn', alpha=0.5, color='blue')\n",
    "plt.scatter(bin_centers, proportions_sr, marker='.', label='sr', alpha=0.5, color='red')\n",
    "plt.axvline(x=0.2, color='grey', linestyle='--', alpha=0.5)\n",
    "plt.axvline(x=-0.2, color='grey', linestyle='--', alpha=0.5)\n",
    "\n",
    "plt.legend(fontsize=10)\n",
    "plt.xlabel('True pT [GeV]')\n",
    "plt.ylabel('Fraction')\n",
    "plt.title('Fraction of clusters selected as having |pT| > 0.2 GeV')\n",
    "plt.yticks(np.arange(0, 1.1, 0.1))\n",
    "#plt.yscale('log')\n",
    "plt.ylim(0, 1)\n",
    "plt.legend()\n",
    "plt.show()"
   ]
  },
  {
   "cell_type": "code",
   "execution_count": null,
   "id": "5570d705-5cb4-4f72-9620-056c8a8e0111",
   "metadata": {},
   "outputs": [],
   "source": [
    "expressions_masked, complexity, sparsity_input, sparsity_model, sparsity_unary, sparsity_binary = get_expressions(nsr)\n",
    "print('Unroll network into symbolic expressions (input sparsity = {0:.3f}; model sparsity = {1:.3f}; unary sparsity = {2:.3f}; binary sparsity = {2:.3f})\\n--------------'.format(sparsity_input, sparsity_model, sparsity_unary, sparsity_binary))\n",
    "print('Mean complexity = {0:.1f}\\n--------------'.format(np.mean(complexity)))\n",
    "for i in range(expressions_masked.shape[1]):\n",
    "    print('expr_{0} (complexity = {1}):\\n\\n{2}\\n-------------------------------------'.format(i,complexity[i],expressions_masked[i]))"
   ]
  },
  {
   "cell_type": "code",
   "execution_count": null,
   "id": "56f5524c-b86c-42ee-b858-e320ef1c6b70",
   "metadata": {},
   "outputs": [],
   "source": []
  }
 ],
 "metadata": {
  "kernelspec": {
   "display_name": "smart-pixel",
   "language": "python",
   "name": "python3"
  },
  "language_info": {
   "codemirror_mode": {
    "name": "ipython",
    "version": 3
   },
   "file_extension": ".py",
   "mimetype": "text/x-python",
   "name": "python",
   "nbconvert_exporter": "python",
   "pygments_lexer": "ipython3",
   "version": "3.10.5"
  }
 },
 "nbformat": 4,
 "nbformat_minor": 5
}
